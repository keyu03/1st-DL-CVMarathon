{
 "cells": [
  {
   "cell_type": "markdown",
   "metadata": {},
   "source": [
    "## 『本次練習內容』\n",
    "#### 運用這幾天所學觀念搭建一個CNN分類器"
   ]
  },
  {
   "cell_type": "markdown",
   "metadata": {},
   "source": [
    "## 『本次練習目的』\n",
    "  #### 熟悉CNN分類器搭建步驟與原理\n",
    "  #### 學員們可以嘗試不同搭法，如使用不同的Maxpooling層，用GlobalAveragePooling取代Flatten等等"
   ]
  },
  {
   "cell_type": "code",
   "execution_count": 1,
   "metadata": {},
   "outputs": [
    {
     "name": "stderr",
     "output_type": "stream",
     "text": [
      "Using TensorFlow backend.\n"
     ]
    }
   ],
   "source": [
    "from keras.models import Sequential\n",
    "from keras.layers import Convolution2D\n",
    "from keras.layers import MaxPooling2D\n",
    "from keras.layers import Flatten\n",
    "from keras.layers import Dense\n",
    "from keras.layers import Dropout\n",
    "from keras.layers import BatchNormalization\n",
    "from keras.datasets import cifar10\n",
    "import numpy as np\n",
    "import tensorflow as tf\n",
    "from sklearn.preprocessing import OneHotEncoder\n"
   ]
  },
  {
   "cell_type": "code",
   "execution_count": 2,
   "metadata": {},
   "outputs": [
    {
     "name": "stdout",
     "output_type": "stream",
     "text": [
      "(50000, 32, 32, 3)\n"
     ]
    }
   ],
   "source": [
    "(x_train, y_train), (x_test, y_test) = cifar10.load_data()\n",
    "\n",
    "print(x_train.shape) #(50000, 32, 32, 3)\n",
    "\n",
    "## Normalize Data\n",
    "def normalize(X_train,X_test):\n",
    "        mean = np.mean(X_train,axis=(0,1,2,3))\n",
    "        std = np.std(X_train, axis=(0, 1, 2, 3))\n",
    "        X_train = (X_train-mean)/(std+1e-7)\n",
    "        X_test = (X_test-mean)/(std+1e-7) \n",
    "        return X_train, X_test,mean,std\n",
    "    \n",
    "    \n",
    "## Normalize Training and Testset    \n",
    "x_train, x_test,mean_train,std_train = normalize(x_train, x_test) "
   ]
  },
  {
   "cell_type": "code",
   "execution_count": 3,
   "metadata": {},
   "outputs": [
    {
     "name": "stderr",
     "output_type": "stream",
     "text": [
      "c:\\programdata\\anaconda3\\envs\\tensorflow_gpu\\lib\\site-packages\\sklearn\\preprocessing\\_encoders.py:415: FutureWarning: The handling of integer data will change in version 0.22. Currently, the categories are determined based on the range [0, max(values)], while in the future they will be determined based on the unique values.\n",
      "If you want the future behaviour and silence this warning, you can specify \"categories='auto'\".\n",
      "In case you used a LabelEncoder before this OneHotEncoder to convert the categories to integers, then you can now use the OneHotEncoder directly.\n",
      "  warnings.warn(msg, FutureWarning)\n"
     ]
    }
   ],
   "source": [
    "## OneHot Label 由(None, 1)-(None, 10)\n",
    "## ex. label=2,變成[0,0,1,0,0,0,0,0,0,0]\n",
    "one_hot=OneHotEncoder()\n",
    "y_train=one_hot.fit_transform(y_train).toarray()\n",
    "y_test=one_hot.transform(y_test).toarray()"
   ]
  },
  {
   "cell_type": "code",
   "execution_count": 4,
   "metadata": {},
   "outputs": [
    {
     "name": "stderr",
     "output_type": "stream",
     "text": [
      "c:\\programdata\\anaconda3\\envs\\tensorflow_gpu\\lib\\site-packages\\ipykernel_launcher.py:23: UserWarning: Update your `Dense` call to the Keras 2 API: `Dense(activation=\"softmax\", units=10)`\n"
     ]
    },
    {
     "name": "stdout",
     "output_type": "stream",
     "text": [
      "WARNING:tensorflow:From c:\\programdata\\anaconda3\\envs\\tensorflow_gpu\\lib\\site-packages\\keras\\backend\\tensorflow_backend.py:422: The name tf.global_variables is deprecated. Please use tf.compat.v1.global_variables instead.\n",
      "\n",
      "Epoch 1/100\n",
      "50000/50000 [==============================] - 18s 366us/step - loss: 2.3348 - accuracy: 0.4277\n",
      "Epoch 2/100\n",
      "50000/50000 [==============================] - 17s 347us/step - loss: 1.1094 - accuracy: 0.6150\n",
      "Epoch 3/100\n",
      "50000/50000 [==============================] - 17s 349us/step - loss: 0.8972 - accuracy: 0.6855\n",
      "Epoch 4/100\n",
      "50000/50000 [==============================] - 17s 340us/step - loss: 0.7452 - accuracy: 0.7388\n",
      "Epoch 5/100\n",
      "50000/50000 [==============================] - 17s 335us/step - loss: 0.6071 - accuracy: 0.7855\n",
      "Epoch 6/100\n",
      "50000/50000 [==============================] - 17s 335us/step - loss: 0.5086 - accuracy: 0.8220\n",
      "Epoch 7/100\n",
      "50000/50000 [==============================] - 17s 337us/step - loss: 0.4291 - accuracy: 0.8501\n",
      "Epoch 8/100\n",
      "50000/50000 [==============================] - 17s 334us/step - loss: 0.3544 - accuracy: 0.8781\n",
      "Epoch 9/100\n",
      "50000/50000 [==============================] - 17s 334us/step - loss: 0.3143 - accuracy: 0.8923\n",
      "Epoch 10/100\n",
      "50000/50000 [==============================] - 17s 335us/step - loss: 0.2691 - accuracy: 0.9082s - loss: 0.2688 - accuracy: \n",
      "Epoch 11/100\n",
      "50000/50000 [==============================] - 17s 336us/step - loss: 0.2311 - accuracy: 0.9217\n",
      "Epoch 12/100\n",
      "50000/50000 [==============================] - 17s 335us/step - loss: 0.1933 - accuracy: 0.9338\n",
      "Epoch 13/100\n",
      "50000/50000 [==============================] - 17s 337us/step - loss: 0.1801 - accuracy: 0.9377\n",
      "Epoch 14/100\n",
      "50000/50000 [==============================] - 17s 335us/step - loss: 0.1756 - accuracy: 0.9403\n",
      "Epoch 15/100\n",
      "50000/50000 [==============================] - 17s 336us/step - loss: 0.1447 - accuracy: 0.9500\n",
      "Epoch 16/100\n",
      "50000/50000 [==============================] - 17s 336us/step - loss: 0.1439 - accuracy: 0.9519\n",
      "Epoch 17/100\n",
      "50000/50000 [==============================] - 17s 335us/step - loss: 0.1399 - accuracy: 0.9538\n",
      "Epoch 18/100\n",
      "50000/50000 [==============================] - 17s 335us/step - loss: 0.1207 - accuracy: 0.9600\n",
      "Epoch 19/100\n",
      "50000/50000 [==============================] - 17s 335us/step - loss: 0.1095 - accuracy: 0.9638\n",
      "Epoch 20/100\n",
      "50000/50000 [==============================] - 17s 335us/step - loss: 0.1017 - accuracy: 0.9657\n",
      "Epoch 21/100\n",
      "50000/50000 [==============================] - 17s 335us/step - loss: 0.1000 - accuracy: 0.9672\n",
      "Epoch 22/100\n",
      "50000/50000 [==============================] - 17s 335us/step - loss: 0.0970 - accuracy: 0.9687\n",
      "Epoch 23/100\n",
      "50000/50000 [==============================] - 17s 335us/step - loss: 0.0951 - accuracy: 0.9683\n",
      "Epoch 24/100\n",
      "50000/50000 [==============================] - 17s 335us/step - loss: 0.1012 - accuracy: 0.9683\n",
      "Epoch 25/100\n",
      "50000/50000 [==============================] - 17s 335us/step - loss: 0.0805 - accuracy: 0.9747\n",
      "Epoch 26/100\n",
      "50000/50000 [==============================] - 17s 336us/step - loss: 0.0723 - accuracy: 0.9765\n",
      "Epoch 27/100\n",
      "50000/50000 [==============================] - 17s 336us/step - loss: 0.0758 - accuracy: 0.9754\n",
      "Epoch 28/100\n",
      "50000/50000 [==============================] - 17s 336us/step - loss: 0.0832 - accuracy: 0.9740\n",
      "Epoch 29/100\n",
      "50000/50000 [==============================] - 17s 335us/step - loss: 0.0669 - accuracy: 0.9784\n",
      "Epoch 30/100\n",
      "50000/50000 [==============================] - 17s 336us/step - loss: 0.0674 - accuracy: 0.9779\n",
      "Epoch 31/100\n",
      "50000/50000 [==============================] - 17s 334us/step - loss: 0.0701 - accuracy: 0.9772\n",
      "Epoch 32/100\n",
      "50000/50000 [==============================] - 17s 335us/step - loss: 0.0719 - accuracy: 0.9771\n",
      "Epoch 33/100\n",
      "50000/50000 [==============================] - 17s 335us/step - loss: 0.0624 - accuracy: 0.9802\n",
      "Epoch 34/100\n",
      "50000/50000 [==============================] - 17s 336us/step - loss: 0.0540 - accuracy: 0.9825\n",
      "Epoch 35/100\n",
      "50000/50000 [==============================] - 17s 335us/step - loss: 0.0641 - accuracy: 0.9802\n",
      "Epoch 36/100\n",
      "50000/50000 [==============================] - 17s 335us/step - loss: 0.0712 - accuracy: 0.9787\n",
      "Epoch 37/100\n",
      "50000/50000 [==============================] - 17s 335us/step - loss: 0.0487 - accuracy: 0.9836\n",
      "Epoch 38/100\n",
      "50000/50000 [==============================] - 17s 335us/step - loss: 0.0489 - accuracy: 0.9847\n",
      "Epoch 39/100\n",
      "50000/50000 [==============================] - 17s 335us/step - loss: 0.0540 - accuracy: 0.9828\n",
      "Epoch 40/100\n",
      "50000/50000 [==============================] - 17s 335us/step - loss: 0.0440 - accuracy: 0.9858\n",
      "Epoch 41/100\n",
      "50000/50000 [==============================] - 17s 335us/step - loss: 0.0474 - accuracy: 0.9847\n",
      "Epoch 42/100\n",
      "50000/50000 [==============================] - 17s 336us/step - loss: 0.0639 - accuracy: 0.9811\n",
      "Epoch 43/100\n",
      "50000/50000 [==============================] - 17s 334us/step - loss: 0.0598 - accuracy: 0.9817\n",
      "Epoch 44/100\n",
      "50000/50000 [==============================] - 17s 335us/step - loss: 0.0394 - accuracy: 0.9878\n",
      "Epoch 45/100\n",
      "50000/50000 [==============================] - 17s 335us/step - loss: 0.0398 - accuracy: 0.9875\n",
      "Epoch 46/100\n",
      "50000/50000 [==============================] - 17s 336us/step - loss: 0.0471 - accuracy: 0.9860\n",
      "Epoch 47/100\n",
      "50000/50000 [==============================] - 17s 334us/step - loss: 0.0448 - accuracy: 0.9864\n",
      "Epoch 48/100\n",
      "50000/50000 [==============================] - 17s 335us/step - loss: 0.0397 - accuracy: 0.9871\n",
      "Epoch 49/100\n",
      "50000/50000 [==============================] - 17s 334us/step - loss: 0.0408 - accuracy: 0.9871\n",
      "Epoch 50/100\n",
      "50000/50000 [==============================] - 17s 336us/step - loss: 0.0417 - accuracy: 0.9875\n",
      "Epoch 51/100\n",
      "50000/50000 [==============================] - 17s 336us/step - loss: 0.0475 - accuracy: 0.9853\n",
      "Epoch 52/100\n",
      "50000/50000 [==============================] - 17s 335us/step - loss: 0.0386 - accuracy: 0.9881\n",
      "Epoch 53/100\n",
      "50000/50000 [==============================] - 17s 335us/step - loss: 0.0389 - accuracy: 0.9880\n",
      "Epoch 54/100\n",
      "50000/50000 [==============================] - 17s 335us/step - loss: 0.0378 - accuracy: 0.9886\n",
      "Epoch 55/100\n",
      "50000/50000 [==============================] - 17s 334us/step - loss: 0.0320 - accuracy: 0.9894\n",
      "Epoch 56/100\n",
      "50000/50000 [==============================] - 17s 335us/step - loss: 0.0345 - accuracy: 0.9889\n",
      "Epoch 57/100\n",
      "50000/50000 [==============================] - 17s 335us/step - loss: 0.0354 - accuracy: 0.9889\n",
      "Epoch 58/100\n",
      "50000/50000 [==============================] - 17s 336us/step - loss: 0.0488 - accuracy: 0.9862\n",
      "Epoch 59/100\n",
      "50000/50000 [==============================] - 17s 335us/step - loss: 0.0400 - accuracy: 0.9877\n",
      "Epoch 60/100\n",
      "50000/50000 [==============================] - 17s 335us/step - loss: 0.0348 - accuracy: 0.9895\n",
      "Epoch 61/100\n",
      "50000/50000 [==============================] - 17s 334us/step - loss: 0.0279 - accuracy: 0.9909s - loss: 0.0278 - accuracy\n",
      "Epoch 62/100\n",
      "50000/50000 [==============================] - 17s 335us/step - loss: 0.0287 - accuracy: 0.9912\n",
      "Epoch 63/100\n",
      "50000/50000 [==============================] - 17s 335us/step - loss: 0.0259 - accuracy: 0.9918\n",
      "Epoch 64/100\n",
      "50000/50000 [==============================] - 17s 336us/step - loss: 0.0310 - accuracy: 0.9898\n",
      "Epoch 65/100\n",
      "50000/50000 [==============================] - 17s 335us/step - loss: 0.0464 - accuracy: 0.9857\n",
      "Epoch 66/100\n",
      "50000/50000 [==============================] - 17s 335us/step - loss: 0.0313 - accuracy: 0.9907\n",
      "Epoch 67/100\n",
      "50000/50000 [==============================] - 17s 334us/step - loss: 0.0274 - accuracy: 0.9916\n",
      "Epoch 68/100\n",
      "50000/50000 [==============================] - 17s 335us/step - loss: 0.0203 - accuracy: 0.9936\n",
      "Epoch 69/100\n",
      "50000/50000 [==============================] - 17s 336us/step - loss: 0.0333 - accuracy: 0.9896\n",
      "Epoch 70/100\n",
      "50000/50000 [==============================] - 17s 334us/step - loss: 0.0305 - accuracy: 0.9909\n",
      "Epoch 71/100\n",
      "50000/50000 [==============================] - 17s 335us/step - loss: 0.0305 - accuracy: 0.9901\n",
      "Epoch 72/100\n",
      "50000/50000 [==============================] - 17s 335us/step - loss: 0.0333 - accuracy: 0.9899\n",
      "Epoch 73/100\n"
     ]
    },
    {
     "name": "stdout",
     "output_type": "stream",
     "text": [
      "50000/50000 [==============================] - 17s 335us/step - loss: 0.0277 - accuracy: 0.9918\n",
      "Epoch 74/100\n",
      "50000/50000 [==============================] - 17s 334us/step - loss: 0.0245 - accuracy: 0.9923\n",
      "Epoch 75/100\n",
      "50000/50000 [==============================] - 17s 334us/step - loss: 0.0223 - accuracy: 0.9929\n",
      "Epoch 76/100\n",
      "50000/50000 [==============================] - 17s 336us/step - loss: 0.0270 - accuracy: 0.9916\n",
      "Epoch 77/100\n",
      "50000/50000 [==============================] - 17s 337us/step - loss: 0.0344 - accuracy: 0.9901\n",
      "Epoch 78/100\n",
      "50000/50000 [==============================] - 17s 334us/step - loss: 0.0257 - accuracy: 0.9919\n",
      "Epoch 79/100\n",
      "50000/50000 [==============================] - 17s 335us/step - loss: 0.0250 - accuracy: 0.9924\n",
      "Epoch 80/100\n",
      "50000/50000 [==============================] - 17s 334us/step - loss: 0.0248 - accuracy: 0.9920\n",
      "Epoch 81/100\n",
      "50000/50000 [==============================] - 17s 335us/step - loss: 0.0228 - accuracy: 0.9931\n",
      "Epoch 82/100\n",
      "50000/50000 [==============================] - 17s 335us/step - loss: 0.0256 - accuracy: 0.9920\n",
      "Epoch 83/100\n",
      "50000/50000 [==============================] - 17s 334us/step - loss: 0.0295 - accuracy: 0.9911\n",
      "Epoch 84/100\n",
      "50000/50000 [==============================] - 17s 335us/step - loss: 0.0233 - accuracy: 0.9930\n",
      "Epoch 85/100\n",
      "50000/50000 [==============================] - 17s 335us/step - loss: 0.0247 - accuracy: 0.9923\n",
      "Epoch 86/100\n",
      "50000/50000 [==============================] - 17s 333us/step - loss: 0.0297 - accuracy: 0.9912\n",
      "Epoch 87/100\n",
      "50000/50000 [==============================] - 17s 334us/step - loss: 0.0227 - accuracy: 0.9935\n",
      "Epoch 88/100\n",
      "50000/50000 [==============================] - 17s 335us/step - loss: 0.0192 - accuracy: 0.9938\n",
      "Epoch 89/100\n",
      "50000/50000 [==============================] - 17s 335us/step - loss: 0.0250 - accuracy: 0.9922\n",
      "Epoch 90/100\n",
      "50000/50000 [==============================] - 17s 334us/step - loss: 0.0289 - accuracy: 0.9915\n",
      "Epoch 91/100\n",
      "50000/50000 [==============================] - 17s 333us/step - loss: 0.0238 - accuracy: 0.9927\n",
      "Epoch 92/100\n",
      "50000/50000 [==============================] - 17s 334us/step - loss: 0.0174 - accuracy: 0.9947\n",
      "Epoch 93/100\n",
      "50000/50000 [==============================] - 17s 335us/step - loss: 0.0172 - accuracy: 0.9944\n",
      "Epoch 94/100\n",
      "50000/50000 [==============================] - 17s 334us/step - loss: 0.0322 - accuracy: 0.9906\n",
      "Epoch 95/100\n",
      "50000/50000 [==============================] - 17s 334us/step - loss: 0.0209 - accuracy: 0.9936\n",
      "Epoch 96/100\n",
      "50000/50000 [==============================] - 17s 335us/step - loss: 0.0163 - accuracy: 0.9950\n",
      "Epoch 97/100\n",
      "50000/50000 [==============================] - 17s 335us/step - loss: 0.0194 - accuracy: 0.9942\n",
      "Epoch 98/100\n",
      "50000/50000 [==============================] - 17s 334us/step - loss: 0.0275 - accuracy: 0.9925\n",
      "Epoch 99/100\n",
      "50000/50000 [==============================] - 17s 334us/step - loss: 0.0235 - accuracy: 0.9928\n",
      "Epoch 100/100\n",
      "50000/50000 [==============================] - 17s 333us/step - loss: 0.0199 - accuracy: 0.9941\n"
     ]
    },
    {
     "data": {
      "text/plain": [
       "<keras.callbacks.callbacks.History at 0x25792500f60>"
      ]
     },
     "execution_count": 4,
     "metadata": {},
     "output_type": "execute_result"
    }
   ],
   "source": [
    "\n",
    "classifier=Sequential()\n",
    "\n",
    "#卷積組合\n",
    "classifier.add(Convolution2D(32, (3,3), input_shape=(32,32,3), activation='relu'))\n",
    "#32,3,3,input_shape=(32,32,3),activation='relu''\n",
    "classifier.add(BatchNormalization())\n",
    "\n",
    "'''自己決定MaxPooling2D放在哪裡'''\n",
    "#classifier.add(MaxPooling2D(pool_size=(2,2)))\n",
    "\n",
    "#卷積組合\n",
    "classifier.add(Convolution2D(64, (3,3)))\n",
    "classifier.add(BatchNormalization())\n",
    "\n",
    "#flatten\n",
    "classifier.add(Flatten())\n",
    "\n",
    "#FC\n",
    "classifier.add(Dense(units=100, activation='relu')) #output_dim=100,activation=relu\n",
    "\n",
    "#輸出\n",
    "classifier.add(Dense(output_dim=10,activation='softmax'))\n",
    "\n",
    "#超過兩個就要選categorical_crossentrophy\n",
    "classifier.compile(optimizer = 'adam', loss = 'categorical_crossentropy', metrics = ['accuracy'])\n",
    "classifier.fit(x_train,y_train,batch_size=100,epochs=100)"
   ]
  },
  {
   "cell_type": "markdown",
   "metadata": {},
   "source": [
    "## 預測新圖片，輸入影像前處理要與訓練時相同\n",
    "#### ((X-mean)/(std+1e-7) ):這裡的mean跟std是訓練集的\n",
    "## 維度如下方示範"
   ]
  },
  {
   "cell_type": "code",
   "execution_count": 5,
   "metadata": {},
   "outputs": [
    {
     "data": {
      "text/plain": [
       "array([[4.3698172e-05, 7.7258954e-07, 9.7758514e-01, 2.2058012e-02,\n",
       "        1.0800806e-06, 1.8738741e-05, 2.3555629e-06, 2.5441989e-04,\n",
       "        4.0063586e-08, 3.5784484e-05]], dtype=float32)"
      ]
     },
     "execution_count": 5,
     "metadata": {},
     "output_type": "execute_result"
    }
   ],
   "source": [
    "input_example=(np.zeros(shape=(1,32,32,3))-mean_train)/(std_train+1e-7) \n",
    "classifier.predict(input_example)"
   ]
  },
  {
   "cell_type": "code",
   "execution_count": null,
   "metadata": {},
   "outputs": [],
   "source": []
  }
 ],
 "metadata": {
  "kernelspec": {
   "display_name": "Python 3",
   "language": "python",
   "name": "python3"
  },
  "language_info": {
   "codemirror_mode": {
    "name": "ipython",
    "version": 3
   },
   "file_extension": ".py",
   "mimetype": "text/x-python",
   "name": "python",
   "nbconvert_exporter": "python",
   "pygments_lexer": "ipython3",
   "version": "3.7.3"
  }
 },
 "nbformat": 4,
 "nbformat_minor": 2
}
